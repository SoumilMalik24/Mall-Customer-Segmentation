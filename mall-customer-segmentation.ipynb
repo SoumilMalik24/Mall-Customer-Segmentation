{
 "cells": [
  {
   "cell_type": "code",
   "execution_count": 1,
   "id": "83aaf347",
   "metadata": {
    "_cell_guid": "b1076dfc-b9ad-4769-8c92-a6c4dae69d19",
    "_uuid": "8f2839f25d086af736a60e9eeb907d3b93b6e0e5",
    "execution": {
     "iopub.execute_input": "2025-08-27T05:53:11.454372Z",
     "iopub.status.busy": "2025-08-27T05:53:11.454027Z",
     "iopub.status.idle": "2025-08-27T05:53:13.803649Z",
     "shell.execute_reply": "2025-08-27T05:53:13.801969Z"
    },
    "papermill": {
     "duration": 2.358108,
     "end_time": "2025-08-27T05:53:13.806189",
     "exception": false,
     "start_time": "2025-08-27T05:53:11.448081",
     "status": "completed"
    },
    "tags": []
   },
   "outputs": [
    {
     "name": "stdout",
     "output_type": "stream",
     "text": [
      "/kaggle/input/customer-segmentation-tutorial-in-python/Mall_Customers.csv\n"
     ]
    }
   ],
   "source": [
    "# This Python 3 environment comes with many helpful analytics libraries installed\n",
    "# It is defined by the kaggle/python Docker image: https://github.com/kaggle/docker-python\n",
    "# For example, here's several helpful packages to load\n",
    "\n",
    "import numpy as np # linear algebra\n",
    "import pandas as pd # data processing, CSV file I/O (e.g. pd.read_csv)\n",
    "\n",
    "# Input data files are available in the read-only \"../input/\" directory\n",
    "# For example, running this (by clicking run or pressing Shift+Enter) will list all files under the input directory\n",
    "\n",
    "import os\n",
    "for dirname, _, filenames in os.walk('/kaggle/input'):\n",
    "    for filename in filenames:\n",
    "        print(os.path.join(dirname, filename))\n",
    "\n",
    "# You can write up to 20GB to the current directory (/kaggle/working/) that gets preserved as output when you create a version using \"Save & Run All\" \n",
    "# You can also write temporary files to /kaggle/temp/, but they won't be saved outside of the current session"
   ]
  },
  {
   "cell_type": "markdown",
   "id": "48517e23",
   "metadata": {
    "papermill": {
     "duration": 0.004312,
     "end_time": "2025-08-27T05:53:13.814824",
     "exception": false,
     "start_time": "2025-08-27T05:53:13.810512",
     "status": "completed"
    },
    "tags": []
   },
   "source": [
    "# Importing the Dependencies"
   ]
  },
  {
   "cell_type": "code",
   "execution_count": 2,
   "id": "1dae7ba3",
   "metadata": {
    "execution": {
     "iopub.execute_input": "2025-08-27T05:53:13.824722Z",
     "iopub.status.busy": "2025-08-27T05:53:13.823761Z",
     "iopub.status.idle": "2025-08-27T05:53:17.388444Z",
     "shell.execute_reply": "2025-08-27T05:53:17.387254Z"
    },
    "papermill": {
     "duration": 3.57129,
     "end_time": "2025-08-27T05:53:17.390162",
     "exception": false,
     "start_time": "2025-08-27T05:53:13.818872",
     "status": "completed"
    },
    "tags": []
   },
   "outputs": [],
   "source": [
    "import numpy as np\n",
    "import pandas as pd\n",
    "import matplotlib.pyplot as plt\n",
    "import seaborn as sns\n",
    "from sklearn.cluster import KMeans\n",
    "import warnings\n",
    "warnings.filterwarnings(\"ignore\")"
   ]
  },
  {
   "cell_type": "markdown",
   "id": "a16014b1",
   "metadata": {
    "papermill": {
     "duration": 0.003621,
     "end_time": "2025-08-27T05:53:17.397812",
     "exception": false,
     "start_time": "2025-08-27T05:53:17.394191",
     "status": "completed"
    },
    "tags": []
   },
   "source": [
    "# Data Collection and Analysis"
   ]
  },
  {
   "cell_type": "code",
   "execution_count": 3,
   "id": "26ea0e23",
   "metadata": {
    "execution": {
     "iopub.execute_input": "2025-08-27T05:53:17.408069Z",
     "iopub.status.busy": "2025-08-27T05:53:17.407511Z",
     "iopub.status.idle": "2025-08-27T05:53:17.432860Z",
     "shell.execute_reply": "2025-08-27T05:53:17.430998Z"
    },
    "papermill": {
     "duration": 0.032805,
     "end_time": "2025-08-27T05:53:17.434839",
     "exception": false,
     "start_time": "2025-08-27T05:53:17.402034",
     "status": "completed"
    },
    "tags": []
   },
   "outputs": [],
   "source": [
    "#loading the data\n",
    "cust_data = pd.read_csv('/kaggle/input/customer-segmentation-tutorial-in-python/Mall_Customers.csv')"
   ]
  },
  {
   "cell_type": "code",
   "execution_count": 4,
   "id": "f4f26ae3",
   "metadata": {
    "execution": {
     "iopub.execute_input": "2025-08-27T05:53:17.446229Z",
     "iopub.status.busy": "2025-08-27T05:53:17.444691Z",
     "iopub.status.idle": "2025-08-27T05:53:17.473311Z",
     "shell.execute_reply": "2025-08-27T05:53:17.472107Z"
    },
    "papermill": {
     "duration": 0.035418,
     "end_time": "2025-08-27T05:53:17.475198",
     "exception": false,
     "start_time": "2025-08-27T05:53:17.439780",
     "status": "completed"
    },
    "tags": []
   },
   "outputs": [
    {
     "data": {
      "text/html": [
       "<div>\n",
       "<style scoped>\n",
       "    .dataframe tbody tr th:only-of-type {\n",
       "        vertical-align: middle;\n",
       "    }\n",
       "\n",
       "    .dataframe tbody tr th {\n",
       "        vertical-align: top;\n",
       "    }\n",
       "\n",
       "    .dataframe thead th {\n",
       "        text-align: right;\n",
       "    }\n",
       "</style>\n",
       "<table border=\"1\" class=\"dataframe\">\n",
       "  <thead>\n",
       "    <tr style=\"text-align: right;\">\n",
       "      <th></th>\n",
       "      <th>CustomerID</th>\n",
       "      <th>Gender</th>\n",
       "      <th>Age</th>\n",
       "      <th>Annual Income (k$)</th>\n",
       "      <th>Spending Score (1-100)</th>\n",
       "    </tr>\n",
       "  </thead>\n",
       "  <tbody>\n",
       "    <tr>\n",
       "      <th>0</th>\n",
       "      <td>1</td>\n",
       "      <td>Male</td>\n",
       "      <td>19</td>\n",
       "      <td>15</td>\n",
       "      <td>39</td>\n",
       "    </tr>\n",
       "    <tr>\n",
       "      <th>1</th>\n",
       "      <td>2</td>\n",
       "      <td>Male</td>\n",
       "      <td>21</td>\n",
       "      <td>15</td>\n",
       "      <td>81</td>\n",
       "    </tr>\n",
       "    <tr>\n",
       "      <th>2</th>\n",
       "      <td>3</td>\n",
       "      <td>Female</td>\n",
       "      <td>20</td>\n",
       "      <td>16</td>\n",
       "      <td>6</td>\n",
       "    </tr>\n",
       "    <tr>\n",
       "      <th>3</th>\n",
       "      <td>4</td>\n",
       "      <td>Female</td>\n",
       "      <td>23</td>\n",
       "      <td>16</td>\n",
       "      <td>77</td>\n",
       "    </tr>\n",
       "    <tr>\n",
       "      <th>4</th>\n",
       "      <td>5</td>\n",
       "      <td>Female</td>\n",
       "      <td>31</td>\n",
       "      <td>17</td>\n",
       "      <td>40</td>\n",
       "    </tr>\n",
       "  </tbody>\n",
       "</table>\n",
       "</div>"
      ],
      "text/plain": [
       "   CustomerID  Gender  Age  Annual Income (k$)  Spending Score (1-100)\n",
       "0           1    Male   19                  15                      39\n",
       "1           2    Male   21                  15                      81\n",
       "2           3  Female   20                  16                       6\n",
       "3           4  Female   23                  16                      77\n",
       "4           5  Female   31                  17                      40"
      ]
     },
     "execution_count": 4,
     "metadata": {},
     "output_type": "execute_result"
    }
   ],
   "source": [
    "cust_data.head()"
   ]
  },
  {
   "cell_type": "code",
   "execution_count": 5,
   "id": "97fc53dc",
   "metadata": {
    "execution": {
     "iopub.execute_input": "2025-08-27T05:53:17.485624Z",
     "iopub.status.busy": "2025-08-27T05:53:17.485125Z",
     "iopub.status.idle": "2025-08-27T05:53:17.494733Z",
     "shell.execute_reply": "2025-08-27T05:53:17.493271Z"
    },
    "papermill": {
     "duration": 0.017649,
     "end_time": "2025-08-27T05:53:17.497119",
     "exception": false,
     "start_time": "2025-08-27T05:53:17.479470",
     "status": "completed"
    },
    "tags": []
   },
   "outputs": [
    {
     "data": {
      "text/plain": [
       "(200, 5)"
      ]
     },
     "execution_count": 5,
     "metadata": {},
     "output_type": "execute_result"
    }
   ],
   "source": [
    "#data shape\n",
    "cust_data.shape"
   ]
  },
  {
   "cell_type": "code",
   "execution_count": 6,
   "id": "ec13083b",
   "metadata": {
    "execution": {
     "iopub.execute_input": "2025-08-27T05:53:17.507175Z",
     "iopub.status.busy": "2025-08-27T05:53:17.506787Z",
     "iopub.status.idle": "2025-08-27T05:53:17.538459Z",
     "shell.execute_reply": "2025-08-27T05:53:17.537207Z"
    },
    "papermill": {
     "duration": 0.038884,
     "end_time": "2025-08-27T05:53:17.540259",
     "exception": false,
     "start_time": "2025-08-27T05:53:17.501375",
     "status": "completed"
    },
    "tags": []
   },
   "outputs": [
    {
     "name": "stdout",
     "output_type": "stream",
     "text": [
      "<class 'pandas.core.frame.DataFrame'>\n",
      "RangeIndex: 200 entries, 0 to 199\n",
      "Data columns (total 5 columns):\n",
      " #   Column                  Non-Null Count  Dtype \n",
      "---  ------                  --------------  ----- \n",
      " 0   CustomerID              200 non-null    int64 \n",
      " 1   Gender                  200 non-null    object\n",
      " 2   Age                     200 non-null    int64 \n",
      " 3   Annual Income (k$)      200 non-null    int64 \n",
      " 4   Spending Score (1-100)  200 non-null    int64 \n",
      "dtypes: int64(4), object(1)\n",
      "memory usage: 7.9+ KB\n"
     ]
    }
   ],
   "source": [
    "#more data information\n",
    "cust_data.info()"
   ]
  },
  {
   "cell_type": "code",
   "execution_count": 7,
   "id": "abe64082",
   "metadata": {
    "execution": {
     "iopub.execute_input": "2025-08-27T05:53:17.552354Z",
     "iopub.status.busy": "2025-08-27T05:53:17.551878Z",
     "iopub.status.idle": "2025-08-27T05:53:17.561401Z",
     "shell.execute_reply": "2025-08-27T05:53:17.560389Z"
    },
    "papermill": {
     "duration": 0.017604,
     "end_time": "2025-08-27T05:53:17.563224",
     "exception": false,
     "start_time": "2025-08-27T05:53:17.545620",
     "status": "completed"
    },
    "tags": []
   },
   "outputs": [
    {
     "data": {
      "text/plain": [
       "CustomerID                0\n",
       "Gender                    0\n",
       "Age                       0\n",
       "Annual Income (k$)        0\n",
       "Spending Score (1-100)    0\n",
       "dtype: int64"
      ]
     },
     "execution_count": 7,
     "metadata": {},
     "output_type": "execute_result"
    }
   ],
   "source": [
    "#checking for missing values\n",
    "cust_data.isnull().sum()"
   ]
  },
  {
   "cell_type": "markdown",
   "id": "d6d556e5",
   "metadata": {
    "papermill": {
     "duration": 0.004267,
     "end_time": "2025-08-27T05:53:17.572581",
     "exception": false,
     "start_time": "2025-08-27T05:53:17.568314",
     "status": "completed"
    },
    "tags": []
   },
   "source": [
    "## Choosing the annual income caolumn and spending score column"
   ]
  },
  {
   "cell_type": "code",
   "execution_count": 8,
   "id": "ab82f2de",
   "metadata": {
    "execution": {
     "iopub.execute_input": "2025-08-27T05:53:17.583188Z",
     "iopub.status.busy": "2025-08-27T05:53:17.582846Z",
     "iopub.status.idle": "2025-08-27T05:53:17.589887Z",
     "shell.execute_reply": "2025-08-27T05:53:17.588424Z"
    },
    "papermill": {
     "duration": 0.014805,
     "end_time": "2025-08-27T05:53:17.592369",
     "exception": false,
     "start_time": "2025-08-27T05:53:17.577564",
     "status": "completed"
    },
    "tags": []
   },
   "outputs": [],
   "source": [
    "X = cust_data.iloc[:,[3,4]].values"
   ]
  },
  {
   "cell_type": "code",
   "execution_count": 9,
   "id": "c762eb21",
   "metadata": {
    "execution": {
     "iopub.execute_input": "2025-08-27T05:53:17.602879Z",
     "iopub.status.busy": "2025-08-27T05:53:17.602513Z",
     "iopub.status.idle": "2025-08-27T05:53:17.607403Z",
     "shell.execute_reply": "2025-08-27T05:53:17.606399Z"
    },
    "papermill": {
     "duration": 0.012417,
     "end_time": "2025-08-27T05:53:17.609147",
     "exception": false,
     "start_time": "2025-08-27T05:53:17.596730",
     "status": "completed"
    },
    "tags": []
   },
   "outputs": [],
   "source": [
    "# print(X)"
   ]
  },
  {
   "cell_type": "markdown",
   "id": "202f131c",
   "metadata": {
    "papermill": {
     "duration": 0.003874,
     "end_time": "2025-08-27T05:53:17.617342",
     "exception": false,
     "start_time": "2025-08-27T05:53:17.613468",
     "status": "completed"
    },
    "tags": []
   },
   "source": [
    "# Choosing the number of customers"
   ]
  },
  {
   "cell_type": "markdown",
   "id": "4ad5127f",
   "metadata": {
    "papermill": {
     "duration": 0.004036,
     "end_time": "2025-08-27T05:53:17.625834",
     "exception": false,
     "start_time": "2025-08-27T05:53:17.621798",
     "status": "completed"
    },
    "tags": []
   },
   "source": [
    "## WCSS -> Within Cluster Sum of Squares"
   ]
  },
  {
   "cell_type": "code",
   "execution_count": 10,
   "id": "454e58a4",
   "metadata": {
    "execution": {
     "iopub.execute_input": "2025-08-27T05:53:17.636949Z",
     "iopub.status.busy": "2025-08-27T05:53:17.636590Z",
     "iopub.status.idle": "2025-08-27T05:53:17.903528Z",
     "shell.execute_reply": "2025-08-27T05:53:17.902822Z"
    },
    "papermill": {
     "duration": 0.274749,
     "end_time": "2025-08-27T05:53:17.905377",
     "exception": false,
     "start_time": "2025-08-27T05:53:17.630628",
     "status": "completed"
    },
    "tags": []
   },
   "outputs": [],
   "source": [
    "# finding wcss value for diff number of clusters\n",
    "\n",
    "wcss =[]\n",
    "\n",
    "for i in range(1,11):\n",
    "    kmeans = KMeans(n_clusters = i, init = 'k-means++', random_state = 42)\n",
    "    kmeans.fit(X)\n",
    "    wcss.append(kmeans.inertia_)"
   ]
  },
  {
   "cell_type": "code",
   "execution_count": 11,
   "id": "7ca4fa60",
   "metadata": {
    "execution": {
     "iopub.execute_input": "2025-08-27T05:53:17.918546Z",
     "iopub.status.busy": "2025-08-27T05:53:17.917507Z",
     "iopub.status.idle": "2025-08-27T05:53:18.269829Z",
     "shell.execute_reply": "2025-08-27T05:53:18.268877Z"
    },
    "papermill": {
     "duration": 0.360141,
     "end_time": "2025-08-27T05:53:18.271419",
     "exception": false,
     "start_time": "2025-08-27T05:53:17.911278",
     "status": "completed"
    },
    "tags": []
   },
   "outputs": [
    {
     "data": {
      "image/png": "[encoded data removed]",
      "text/plain": [
       "<Figure size 640x480 with 1 Axes>"
      ]
     },
     "metadata": {},
     "output_type": "display_data"
    }
   ],
   "source": [
    "# plotting the elbow graph\n",
    "\n",
    "sns.set()\n",
    "plt.plot(range(1,11),wcss)\n",
    "plt.title('The Elbow Point Graph')\n",
    "plt.xlabel(\"Number of Cluster\")\n",
    "plt.ylabel(\"WCSS\")\n",
    "plt.show()"
   ]
  },
  {
   "cell_type": "markdown",
   "id": "d45e99ca",
   "metadata": {
    "papermill": {
     "duration": 0.005071,
     "end_time": "2025-08-27T05:53:18.281321",
     "exception": false,
     "start_time": "2025-08-27T05:53:18.276250",
     "status": "completed"
    },
    "tags": []
   },
   "source": [
    "### Optimum Number of Cluster = 5"
   ]
  },
  {
   "cell_type": "markdown",
   "id": "3a0b3639",
   "metadata": {
    "papermill": {
     "duration": 0.004315,
     "end_time": "2025-08-27T05:53:18.290232",
     "exception": false,
     "start_time": "2025-08-27T05:53:18.285917",
     "status": "completed"
    },
    "tags": []
   },
   "source": [
    "# Training the Kmeans clustering Model"
   ]
  },
  {
   "cell_type": "code",
   "execution_count": 12,
   "id": "a5848de9",
   "metadata": {
    "execution": {
     "iopub.execute_input": "2025-08-27T05:53:18.301301Z",
     "iopub.status.busy": "2025-08-27T05:53:18.300955Z",
     "iopub.status.idle": "2025-08-27T05:53:18.322368Z",
     "shell.execute_reply": "2025-08-27T05:53:18.321640Z"
    },
    "papermill": {
     "duration": 0.029079,
     "end_time": "2025-08-27T05:53:18.324203",
     "exception": false,
     "start_time": "2025-08-27T05:53:18.295124",
     "status": "completed"
    },
    "tags": []
   },
   "outputs": [],
   "source": [
    "kmeans = KMeans(n_clusters = 5, init = 'k-means++', random_state = 0)\n",
    "\n",
    "# return a label for each dataset acc to the cluster\n",
    "Y = kmeans.fit_predict(X)\n",
    "\n",
    "# print(Y)"
   ]
  },
  {
   "cell_type": "markdown",
   "id": "0e9c94e5",
   "metadata": {
    "papermill": {
     "duration": 0.005626,
     "end_time": "2025-08-27T05:53:18.335932",
     "exception": false,
     "start_time": "2025-08-27T05:53:18.330306",
     "status": "completed"
    },
    "tags": []
   },
   "source": [
    "## Visualizing all the clusters"
   ]
  },
  {
   "cell_type": "code",
   "execution_count": 13,
   "id": "4aa0e6ff",
   "metadata": {
    "execution": {
     "iopub.execute_input": "2025-08-27T05:53:18.346821Z",
     "iopub.status.busy": "2025-08-27T05:53:18.346485Z",
     "iopub.status.idle": "2025-08-27T05:53:18.672205Z",
     "shell.execute_reply": "2025-08-27T05:53:18.671106Z"
    },
    "papermill": {
     "duration": 0.332874,
     "end_time": "2025-08-27T05:53:18.673872",
     "exception": false,
     "start_time": "2025-08-27T05:53:18.340998",
     "status": "completed"
    },
    "tags": []
   },
   "outputs": [
    {
     "data": {
      "image/png": "[encoded data removed]",
      "text/plain": [
       "<Figure size 800x800 with 1 Axes>"
      ]
     },
     "metadata": {},
     "output_type": "display_data"
    }
   ],
   "source": [
    "# plotting all th clusters and their centroid\n",
    "\n",
    "plt.figure(figsize = (8,8))\n",
    "plt.scatter(X[Y == 0,0], X[Y == 0,1], s = 50, c = 'green', label = 'Cluster 1')\n",
    "plt.scatter(X[Y == 1,0], X[Y == 1,1], s = 50, c = 'blue', label = 'Cluster 2')\n",
    "plt.scatter(X[Y == 2,0], X[Y == 2,1], s = 50, c = 'red', label = 'Cluster 3')\n",
    "plt.scatter(X[Y == 3,0], X[Y == 3,1], s = 50, c = 'yellow', label = 'Cluster 4')\n",
    "plt.scatter(X[Y == 4,0], X[Y == 4,1], s = 50, c = 'orange', label = 'Cluster 5')\n",
    "\n",
    "#plotting the centroids\n",
    "plt.scatter(kmeans.cluster_centers_[:,0],kmeans.cluster_centers_[:,1], s=100,c = 'cyan', label = 'Centroids')\n",
    "\n",
    "plt.title('Customer Groups')\n",
    "plt.xlabel('Annual Income')\n",
    "plt.ylabel('Spending Score')\n",
    "plt.show()"
   ]
  },
  {
   "cell_type": "code",
   "execution_count": null,
   "id": "870b1d89",
   "metadata": {
    "papermill": {
     "duration": 0.005392,
     "end_time": "2025-08-27T05:53:18.685333",
     "exception": false,
     "start_time": "2025-08-27T05:53:18.679941",
     "status": "completed"
    },
    "tags": []
   },
   "outputs": [],
   "source": []
  }
 ],
 "metadata": {
  "kaggle": {
   "accelerator": "none",
   "dataSources": [
    {
     "datasetId": 42674,
     "sourceId": 74935,
     "sourceType": "datasetVersion"
    }
   ],
   "dockerImageVersionId": 31089,
   "isGpuEnabled": false,
   "isInternetEnabled": true,
   "language": "python",
   "sourceType": "notebook"
  },
  "kernelspec": {
   "display_name": "Python 3",
   "language": "python",
   "name": "python3"
  },
  "language_info": {
   "codemirror_mode": {
    "name": "ipython",
    "version": 3
   },
   "file_extension": ".py",
   "mimetype": "text/x-python",
   "name": "python",
   "nbconvert_exporter": "python",
   "pygments_lexer": "ipython3",
   "version": "3.11.13"
  },
  "papermill": {
   "default_parameters": {},
   "duration": 14.826822,
   "end_time": "2025-08-27T05:53:19.513819",
   "environment_variables": {},
   "exception": null,
   "input_path": "__notebook__.ipynb",
   "output_path": "__notebook__.ipynb",
   "parameters": {},
   "start_time": "2025-08-27T05:53:04.686997",
   "version": "2.6.0"
  }
 },
 "nbformat": 4,
 "nbformat_minor": 5
}
